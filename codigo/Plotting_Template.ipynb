{
 "cells": [
  {
   "cell_type": "code",
   "execution_count": 1,
   "metadata": {},
   "outputs": [],
   "source": [
    "# In Class Lab \n",
    "# Feb 15 2018"
   ]
  },
  {
   "cell_type": "code",
   "execution_count": 1,
   "metadata": {},
   "outputs": [],
   "source": [
    "# import modules\n",
    "import numpy as np\n",
    "import astropy.units as u\n",
    "from astropy.constants import G\n",
    "\n",
    "# import plotting modules\n",
    "import matplotlib\n",
    "import matplotlib.pyplot as plt\n",
    "from matplotlib.colors import LogNorm\n",
    "%matplotlib inline\n"
   ]
  },
  {
   "cell_type": "code",
   "execution_count": 2,
   "metadata": {},
   "outputs": [
    {
     "name": "stdout",
     "output_type": "stream",
     "text": [
      "no DISK  particles present!\n"
     ]
    },
    {
     "name": "stderr",
     "output_type": "stream",
     "text": [
      "/anaconda3/lib/python3.6/site-packages/h5py/__init__.py:36: FutureWarning: Conversion of the second argument of issubdtype from `float` to `np.floating` is deprecated. In future, it will be treated as `np.float64 == np.dtype(float).type`.\n",
      "  from ._conv import register_converters as _register_converters\n"
     ]
    },
    {
     "ename": "SystemExit",
     "evalue": "",
     "output_type": "error",
     "traceback": [
      "An exception has occurred, use %tb to see the full traceback.\n",
      "\u001b[0;31mSystemExit\u001b[0m\n"
     ]
    },
    {
     "name": "stderr",
     "output_type": "stream",
     "text": [
      "/anaconda3/lib/python3.6/site-packages/IPython/core/interactiveshell.py:2971: UserWarning: To exit: use 'exit', 'quit', or Ctrl-D.\n",
      "  warn(\"To exit: use 'exit', 'quit', or Ctrl-D.\", stacklevel=1)\n"
     ]
    }
   ],
   "source": [
    "\n",
    "import pygadgetreader as pyg\n",
    "import numpy as num\n",
    "# . Pygadget reader (\"MW_sim_1M_b0_051\")\n",
    "\n",
    "# Store positions as arrays.   returns a 3D array\n",
    "\n",
    "\n",
    "def pygadgetreader(MW_sim_1M_b0_051):\n",
    "    \n",
    "    pos_disk= pyg.readsnap(\"../sims/MW_sim_1M_b0_051\", \"pos\", \"disk\")\n",
    "    xpos_disk= pos_disk[:,0]\n",
    "    x=np.array(xpos_disk)\n",
    "    ypos_disk= pos_disk[:,1]\n",
    "    y=np.array(ypos_disk)\n",
    "    return x,y\n",
    "  \n",
    "x,y = pygadgetreader(\"MW_sim_1M_b0_051\")"
   ]
  },
  {
   "cell_type": "code",
   "execution_count": 9,
   "metadata": {},
   "outputs": [
    {
     "name": "stdout",
     "output_type": "stream",
     "text": [
      "Returning DISK  Positions\n",
      "Returning DISK  Positions\n"
     ]
    },
    {
     "ename": "ValueError",
     "evalue": "not enough values to unpack (expected 3, got 2)",
     "output_type": "error",
     "traceback": [
      "\u001b[0;31m---------------------------------------------------------------------------\u001b[0m",
      "\u001b[0;31mValueError\u001b[0m                                Traceback (most recent call last)",
      "\u001b[0;32m<ipython-input-9-de0d69d70978>\u001b[0m in \u001b[0;36m<module>\u001b[0;34m()\u001b[0m\n\u001b[1;32m     12\u001b[0m     \u001b[0;32mreturn\u001b[0m \u001b[0mx\u001b[0m\u001b[0;34m,\u001b[0m\u001b[0my\u001b[0m\u001b[0;34m\u001b[0m\u001b[0m\n\u001b[1;32m     13\u001b[0m \u001b[0;34m\u001b[0m\u001b[0m\n\u001b[0;32m---> 14\u001b[0;31m \u001b[0mx\u001b[0m\u001b[0;34m,\u001b[0m\u001b[0my\u001b[0m\u001b[0;34m,\u001b[0m\u001b[0mz\u001b[0m \u001b[0;34m=\u001b[0m \u001b[0mpygadgetreader\u001b[0m\u001b[0;34m(\u001b[0m\u001b[0;34m\"MW_LMC_sim_111\"\u001b[0m\u001b[0;34m)\u001b[0m\u001b[0;34m\u001b[0m\u001b[0m\n\u001b[0m",
      "\u001b[0;31mValueError\u001b[0m: not enough values to unpack (expected 3, got 2)"
     ]
    }
   ],
   "source": [
    "pos_disk= pyg.readsnap(\"../sims/MW_LMC_sim_111\", \"pos\", \"disk\")\n",
    "\n",
    "def pygadgetreader(MW_LMC_sim_111):\n",
    "    \n",
    "    pos_disk= pyg.readsnap(\"../sims/MW_LMC_sim_111\", \"pos\", \"disk\")\n",
    "    xpos_disk= pos_disk[:,0]\n",
    "    x=np.array(xpos_disk)\n",
    "    ypos_disk= pos_disk[:,1]\n",
    "    y=np.array(ypos_disk)\n",
    "    zpos_disk= pos_disk[:,2]\n",
    "    z=np.array(ypos_disk)\n",
    "    return x,y\n",
    "  \n",
    "x,y,z = pygadgetreader(\"MW_LMC_sim_111\")"
   ]
  },
  {
   "cell_type": "markdown",
   "metadata": {},
   "source": [
    "## (PART 2) Edit Below: \n",
    "### What position coordinates should you plot against each other to create a face-on representation of a galaxy's disk? Use the hist2d function in matplotlib to test this. Start with bins=100."
   ]
  },
  {
   "cell_type": "code",
   "execution_count": 10,
   "metadata": {},
   "outputs": [
    {
     "data": {
      "image/png": "[encoded data removed]",
      "text/plain": [
       "<Figure size 936x720 with 1 Axes>"
      ]
     },
     "metadata": {},
     "output_type": "display_data"
    }
   ],
   "source": [
    "# MW Disk Density, face on\n",
    "# import plotting modules\n",
    "\n",
    "import matplotlib\n",
    "import matplotlib.pyplot as plt\n",
    "from matplotlib.colors import LogNorm\n",
    "%matplotlib inline\n",
    "\n",
    "fig = plt.figure(figsize=(13,10))\n",
    "ax = plt.subplot(111)\n",
    "\n",
    "#### PLACE FUNCTION HERE ####\n",
    "# hist2d(xaxis, yaxis,bins)\n",
    "\n",
    "\n",
    "\n",
    "def hist2d(x, y, bins=150):\n",
    "    plt.hist2d(x,y,bins=bins)\n",
    "    \n",
    "\n",
    "\n",
    "#plt.colorbar()\n",
    "hist2d(x,y,bins=75)\n",
    "# Add axis labels\n",
    "plt.xlabel('? (kpc)', fontsize=22)\n",
    "plt.ylabel('? (kpc)', fontsize=22)\n",
    "\n",
    "#set axis limits\n",
    "plt.ylim(30,90)\n",
    "plt.xlim(-30,30)\n",
    "\n",
    "#adjust tick label font size\n",
    "label_size = 22\n",
    "matplotlib.rcParams['xtick.labelsize'] = label_size \n",
    "matplotlib.rcParams['ytick.labelsize'] = label_size\n",
    "\n",
    "# Save to a file\n",
    "ax.set_rasterized(True)"
   ]
  },
  {
   "cell_type": "markdown",
   "metadata": {},
   "source": [
    "## (PART 3) Edit above:\n",
    "\n",
    "### 1. Add the norm=LogNorm() argument to the hist2d function (Note: You imported this module at the top of the script). Your colorbar should now show logarithmic units. What does the colorbar represent?\n",
    "\n",
    "### 2. Increase the number of bins used in hist2d to get a higher resolution plot.\n",
    "## ----------------------------------------------------------------------------------------------------------"
   ]
  },
  {
   "cell_type": "markdown",
   "metadata": {},
   "source": [
    " ## (PART 4) Edit Below:\n",
    " \n",
    " ### Now let's make a density plot that shows the edge-on MW disk. Using hist2d again, which position coordinates should you plot against each other to get an edge-on view of the disk? \n",
    " \n",
    " ### Use the code below to create this plot. You'll want to use a similar number of bins and the norm=LogNorm() argument again.\n"
   ]
  },
  {
   "cell_type": "code",
   "execution_count": 12,
   "metadata": {},
   "outputs": [
    {
     "name": "stdout",
     "output_type": "stream",
     "text": [
      "Returning DISK  Positions\n",
      "Returning DISK  Positions\n"
     ]
    },
    {
     "ename": "RuntimeError",
     "evalue": "No mappable was found to use for colorbar creation. First define a mappable such as an image (with imshow) or a contour set (with contourf).",
     "output_type": "error",
     "traceback": [
      "\u001b[0;31m---------------------------------------------------------------------------\u001b[0m",
      "\u001b[0;31mRuntimeError\u001b[0m                              Traceback (most recent call last)",
      "\u001b[0;32m<ipython-input-12-3d49f0caade8>\u001b[0m in \u001b[0;36m<module>\u001b[0;34m()\u001b[0m\n\u001b[1;32m     25\u001b[0m \u001b[0;34m\u001b[0m\u001b[0m\n\u001b[1;32m     26\u001b[0m \u001b[0;34m\u001b[0m\u001b[0m\n\u001b[0;32m---> 27\u001b[0;31m \u001b[0mplt\u001b[0m\u001b[0;34m.\u001b[0m\u001b[0mcolorbar\u001b[0m\u001b[0;34m(\u001b[0m\u001b[0;34m)\u001b[0m\u001b[0;34m\u001b[0m\u001b[0m\n\u001b[0m\u001b[1;32m     28\u001b[0m \u001b[0mhist2d\u001b[0m\u001b[0;34m(\u001b[0m\u001b[0my\u001b[0m\u001b[0;34m,\u001b[0m\u001b[0mz\u001b[0m\u001b[0;34m,\u001b[0m\u001b[0mbins\u001b[0m\u001b[0;34m=\u001b[0m\u001b[0;36m75\u001b[0m\u001b[0;34m)\u001b[0m\u001b[0;34m\u001b[0m\u001b[0m\n\u001b[1;32m     29\u001b[0m \u001b[0;34m\u001b[0m\u001b[0m\n",
      "\u001b[0;32m/anaconda3/lib/python3.6/site-packages/matplotlib/pyplot.py\u001b[0m in \u001b[0;36mcolorbar\u001b[0;34m(mappable, cax, ax, **kw)\u001b[0m\n\u001b[1;32m   2319\u001b[0m         \u001b[0mmappable\u001b[0m \u001b[0;34m=\u001b[0m \u001b[0mgci\u001b[0m\u001b[0;34m(\u001b[0m\u001b[0;34m)\u001b[0m\u001b[0;34m\u001b[0m\u001b[0m\n\u001b[1;32m   2320\u001b[0m         \u001b[0;32mif\u001b[0m \u001b[0mmappable\u001b[0m \u001b[0;32mis\u001b[0m \u001b[0;32mNone\u001b[0m\u001b[0;34m:\u001b[0m\u001b[0;34m\u001b[0m\u001b[0m\n\u001b[0;32m-> 2321\u001b[0;31m             raise RuntimeError('No mappable was found to use for colorbar '\n\u001b[0m\u001b[1;32m   2322\u001b[0m                                \u001b[0;34m'creation. First define a mappable such as '\u001b[0m\u001b[0;34m\u001b[0m\u001b[0m\n\u001b[1;32m   2323\u001b[0m                                \u001b[0;34m'an image (with imshow) or a contour set ('\u001b[0m\u001b[0;34m\u001b[0m\u001b[0m\n",
      "\u001b[0;31mRuntimeError\u001b[0m: No mappable was found to use for colorbar creation. First define a mappable such as an image (with imshow) or a contour set (with contourf)."
     ]
    },
    {
     "data": {
      "image/png": "[encoded data removed]",
      "text/plain": [
       "<Figure size 1296x360 with 1 Axes>"
      ]
     },
     "metadata": {},
     "output_type": "display_data"
    }
   ],
   "source": [
    "# MW Disk Density, edge on\n",
    "\n",
    "fig = plt.figure(figsize=(18,5))\n",
    "ax = plt.subplot(111)\n",
    "\n",
    "#### PLACE FUNCTION HERE ####\n",
    "\n",
    "pos_disk= pyg.readsnap(\"../sims/MW_LMC_sim_111\", \"pos\", \"disk\")\n",
    "\n",
    "def pygadgetreader(MW_LMC_sim_111):\n",
    "    \n",
    "    pos_disk= pyg.readsnap(\"../sims/MW_LMC_sim_111\", \"pos\", \"disk\")\n",
    "    xpos_disk= pos_disk[:,0]\n",
    "    x=np.array(xpos_disk)\n",
    "    ypos_disk= pos_disk[:,1]\n",
    "    y=np.array(ypos_disk)\n",
    "    zpos_disk= pos_disk[:,2]\n",
    "    z=np.array(ypos_disk)\n",
    "    return y,z\n",
    "  \n",
    "y,z = pygadgetreader(\"MW_LMC_sim_111\")\n",
    "\n",
    "def hist2d(y, z, bins=150):\n",
    "    plt.hist2d(y,z,bins=bins)\n",
    "\n",
    "\n",
    "plt.colorbar()\n",
    "hist2d(y,z,bins=75)\n",
    "\n",
    "#plt.colorbar()\n",
    "\n",
    "# Add axis labels\n",
    "plt.xlabel('? (kpc)', fontsize=22)\n",
    "plt.ylabel('? (kpc)', fontsize=22)\n",
    "\n",
    "#set axis limits\n",
    "plt.ylim(-3,3)\n",
    "plt.xlim(-30,30)\n",
    "\n",
    "#adjust tick label font size\n",
    "label_size = 22\n",
    "matplotlib.rcParams['xtick.labelsize'] = label_size \n",
    "matplotlib.rcParams['ytick.labelsize'] = label_size\n",
    "\n",
    "\n",
    "# Save to a file\n",
    "ax.set_rasterized(True)"
   ]
  },
  {
   "cell_type": "markdown",
   "metadata": {},
   "source": [
    "You'll see the disk is fairly thin with a scale height < 1 kpc. Notice the X-shape at the center of the disk as well. This is due to the interaction between disk stars and the bar. Bulge particles are not shown here. "
   ]
  },
  {
   "cell_type": "markdown",
   "metadata": {},
   "source": [
    "## (PART 6) Edit Below:\n",
    "\n",
    "### Now we will create a phase diagram and compare it to the circular velocity assuming spherical symmetry. If you look at the MW's disk along the y-axis, what velocity component will give you the line of sight velocity? Use your intuition from the edge-on disk plot above. \n",
    "\n",
    "### Use hist2d again to plot the y-position of the disk particles against this velocity component. \n",
    "\n",
    "### Compare your plot to the plots in InClass5_Slides.pdf. Does your plot match the observational data?"
   ]
  },
  {
   "cell_type": "code",
   "execution_count": null,
   "metadata": {},
   "outputs": [],
   "source": [
    "# MW Disk Velocity Field edge on.\n",
    "\n",
    "fig = plt.figure(figsize=(10,10))\n",
    "ax = plt.subplot(111)\n",
    "\n",
    "# looking at MW edge on along y axis, what is line of sight velocity component?\n",
    "\n",
    "#### PLACE FUNCTION HERE ###\n",
    "plt.colorbar()\n",
    "\n",
    "\n",
    "# Add axis labels\n",
    "plt.xlabel('? (kpc)', fontsize=22)\n",
    "plt.ylabel('Velocity ? (km/s)', fontsize=22)\n",
    "\n",
    "#set axis limits\n",
    "#plt.ylim(0,200)\n",
    "plt.xlim(-30,30)\n",
    "\n",
    "#adjust tick label font size\n",
    "label_size = 22\n",
    "matplotlib.rcParams['xtick.labelsize'] = label_size \n",
    "matplotlib.rcParams['ytick.labelsize'] = label_size\n",
    "\n",
    "\n",
    "# Save to a file\n",
    "ax.set_rasterized(True)"
   ]
  },
  {
   "cell_type": "markdown",
   "metadata": {},
   "source": [
    "## (PART 8) Edit Below: \n",
    "\n",
    "### Let's isolate an interesting set of particles and explore their origin. This may be helpful to many of your for your final projects. For example, where do the particles with the highest speeds reside and why do they have such high speeds?\n",
    "\n",
    "### 1. Create a velocity mask that selects all particles from the plot above that have a velocity of 250 km/s or higher. Note that these velocities can be positive or negative.\n",
    "\n",
    "### 2. Using the plotting code above, create an edge-on plot of just these disk particles. How did these disk stars arrive at this position?\n",
    "## ----------------------------------------------------------------------------------------------------------"
   ]
  },
  {
   "cell_type": "code",
   "execution_count": null,
   "metadata": {
    "collapsed": true
   },
   "outputs": [],
   "source": []
  }
 ],
 "metadata": {
  "kernelspec": {
   "display_name": "Python 3",
   "language": "python",
   "name": "python3"
  },
  "language_info": {
   "codemirror_mode": {
    "name": "ipython",
    "version": 3
   },
   "file_extension": ".py",
   "mimetype": "text/x-python",
   "name": "python",
   "nbconvert_exporter": "python",
   "pygments_lexer": "ipython3",
   "version": "3.6.5"
  }
 },
 "nbformat": 4,
 "nbformat_minor": 2
}
