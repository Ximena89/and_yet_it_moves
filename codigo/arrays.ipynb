{
 "cells": [
  {
   "cell_type": "code",
   "execution_count": 8,
   "metadata": {},
   "outputs": [],
   "source": [
    "import numpy as np"
   ]
  },
  {
   "cell_type": "markdown",
   "metadata": {},
   "source": [
    "_Turning a list into a 1D array_"
   ]
  },
  {
   "cell_type": "code",
   "execution_count": 9,
   "metadata": {},
   "outputs": [
    {
     "name": "stdout",
     "output_type": "stream",
     "text": [
      "original list: [1, 2, 3, 4, 5]\n",
      "One-dimensional array: [1 2 3 4 5]\n"
     ]
    }
   ],
   "source": [
    "l = [1, 2, 3, 4, 5]\n",
    "print(\"original list:\", l)\n",
    "a = np.array(l)\n",
    "print(\"One-dimensional array:\", a)"
   ]
  },
  {
   "cell_type": "markdown",
   "metadata": {},
   "source": [
    "_Creating a 3x3 matrix_"
   ]
  },
  {
   "cell_type": "code",
   "execution_count": 10,
   "metadata": {},
   "outputs": [
    {
     "name": "stdout",
     "output_type": "stream",
     "text": [
      "[[1 2 3]\n",
      " [4 5 6]\n",
      " [7 8 9]]\n"
     ]
    }
   ],
   "source": [
    "x = np.arange(1,10).reshape(3,3)\n",
    "print(x)"
   ]
  },
  {
   "cell_type": "markdown",
   "metadata": {},
   "source": [
    "_Creating array with values ranging from 12 to 38_"
   ]
  },
  {
   "cell_type": "code",
   "execution_count": 11,
   "metadata": {},
   "outputs": [
    {
     "name": "stdout",
     "output_type": "stream",
     "text": [
      "[12 13 14 15 16 17 18 19 20 21 22 23 24 25 26 27 28 29 30 31 32 33 34 35\n",
      " 36 37]\n"
     ]
    }
   ],
   "source": [
    "x = np.arange(12,38)\n",
    "print(x)"
   ]
  },
  {
   "cell_type": "markdown",
   "metadata": {},
   "source": [
    "_Create a 2d array with 1 on the border and 0 inside_"
   ]
  },
  {
   "cell_type": "code",
   "execution_count": 12,
   "metadata": {
    "scrolled": true
   },
   "outputs": [
    {
     "name": "stdout",
     "output_type": "stream",
     "text": [
      "Original array:\n",
      "[[1. 1. 1. 1. 1.]\n",
      " [1. 1. 1. 1. 1.]\n",
      " [1. 1. 1. 1. 1.]\n",
      " [1. 1. 1. 1. 1.]\n",
      " [1. 1. 1. 1. 1.]]\n",
      "only 1 on the border\n",
      "[[1. 1. 1. 1. 1.]\n",
      " [1. 0. 0. 0. 1.]\n",
      " [1. 0. 0. 0. 1.]\n",
      " [1. 0. 0. 0. 1.]\n",
      " [1. 1. 1. 1. 1.]]\n"
     ]
    }
   ],
   "source": [
    "x = np.ones((5,5))\n",
    "print(\"Original array:\")\n",
    "print(x)\n",
    "print(\"only 1 on the border\")\n",
    "x[1:-1,1:-1] = 0\n",
    "print(x)"
   ]
  },
  {
   "cell_type": "markdown",
   "metadata": {},
   "source": [
    "_Program to find the number of elements of an array, length of one array element in bytes and total bytes consumed by the elements_"
   ]
  },
  {
   "cell_type": "code",
   "execution_count": 13,
   "metadata": {},
   "outputs": [
    {
     "name": "stdout",
     "output_type": "stream",
     "text": [
      "Size of th array:  3\n",
      "Lenth of one array element in bytes:  8\n",
      "Total bytes consumed by the elements of the array: 24\n"
     ]
    }
   ],
   "source": [
    "x = np.array([1,2,3], dtype=np.float64)\n",
    "print(\"Size of th array: \", x.size)\n",
    "print(\"Lenth of one array element in bytes: \", x.itemsize)\n",
    "print(\"Total bytes consumed by the elements of the array:\", x.nbytes)"
   ]
  },
  {
   "cell_type": "markdown",
   "metadata": {},
   "source": [
    "_Program to change the dimension of an array from 6 rows 0 columns to 3 rows 3 columns._"
   ]
  },
  {
   "cell_type": "code",
   "execution_count": 22,
   "metadata": {},
   "outputs": [
    {
     "name": "stdout",
     "output_type": "stream",
     "text": [
      "6 rows and 0 columns\n",
      "(9,)\n",
      "3 rows and 3 columns\n",
      "[[1 2 3]\n",
      " [4 5 6]\n",
      " [7 8 9]]\n",
      "change array shape to (3,3)\n",
      "[[1 2 3]\n",
      " [4 5 6]\n",
      " [7 8 9]]\n"
     ]
    }
   ],
   "source": [
    "x = np.array([1,2,3,4,5,6,7,8,9])\n",
    "print(\"6 rows and 0 columns\")\n",
    "print(x.shape)\n",
    "\n",
    "y = np.array([[1,2,3],[4,5,6],[7,8,9]])\n",
    "print(\"3 rows and 3 columns\")\n",
    "print(y)\n",
    "\n",
    "x = np.array([1,2,3,4,5,6,7,8,9])\n",
    "print(\"change array shape to (3,3)\")\n",
    "x.shape = (3, 3)\n",
    "print(x)\n",
    "\n",
    "             "
   ]
  },
  {
   "cell_type": "markdown",
   "metadata": {},
   "source": [
    "_Program to create a 1-D array of 20 element spaced evenly on a log scale between 2. and 5., exclusive_"
   ]
  },
  {
   "cell_type": "code",
   "execution_count": 26,
   "metadata": {},
   "outputs": [
    {
     "name": "stdout",
     "output_type": "stream",
     "text": [
      "[  100.           141.25375446   199.5262315    281.83829313\n",
      "   398.10717055   562.34132519   794.32823472  1122.0184543\n",
      "  1584.89319246  2238.72113857  3162.27766017  4466.83592151\n",
      "  6309.5734448   8912.50938134 12589.25411794 17782.79410039\n",
      " 25118.8643151  35481.33892336 50118.72336273 70794.57843841]\n"
     ]
    }
   ],
   "source": [
    "x = np.logspace(2., 5., 20, endpoint=False)\n",
    "print(x)"
   ]
  },
  {
   "cell_type": "code",
   "execution_count": 27,
   "metadata": {},
   "outputs": [
    {
     "name": "stdout",
     "output_type": "stream",
     "text": [
      "[   100.            143.84498883    206.91380811    297.63514416\n",
      "    428.13323987    615.84821107    885.86679041   1274.2749857\n",
      "   1832.98071083   2636.65089873   3792.69019073   5455.59478117\n",
      "   7847.59970351  11288.37891685  16237.76739189  23357.2146909\n",
      "  33598.18286284  48329.30238572  69519.27961776 100000.        ]\n"
     ]
    }
   ],
   "source": [
    "x = np.logspace(2., 5., 20, endpoint=True)\n",
    "print(x)"
   ]
  },
  {
   "cell_type": "markdown",
   "metadata": {},
   "source": [
    "_Program to collapse a 3-D array into one dimension array_"
   ]
  },
  {
   "cell_type": "code",
   "execution_count": null,
   "metadata": {},
   "outputs": [],
   "source": []
  }
 ],
 "metadata": {
  "kernelspec": {
   "display_name": "Python 3",
   "language": "python",
   "name": "python3"
  },
  "language_info": {
   "codemirror_mode": {
    "name": "ipython",
    "version": 3
   },
   "file_extension": ".py",
   "mimetype": "text/x-python",
   "name": "python",
   "nbconvert_exporter": "python",
   "pygments_lexer": "ipython3",
   "version": "3.6.6"
  }
 },
 "nbformat": 4,
 "nbformat_minor": 2
}
