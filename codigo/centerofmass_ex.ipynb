{
 "cells": [
  {
   "cell_type": "code",
   "execution_count": null,
   "metadata": {},
   "outputs": [],
   "source": []
  },
  {
   "cell_type": "code",
   "execution_count": 71,
   "metadata": {},
   "outputs": [],
   "source": [
    "# Center of Mass Position and Velocity                                                                                 \n",
    "\n",
    "# import modules                                                                                                       \n",
    "import numpy as np\n",
    "import astropy.units as u\n",
    "import pygadgetreader as pyg\n",
    "import matplotlib.pyplot as plt\n"
   ]
  },
  {
   "cell_type": "code",
   "execution_count": 74,
   "metadata": {},
   "outputs": [],
   "source": [
    "class CenterOfMass:\n",
    "    #\"../sims/MW_1M_db_010\"\n",
    "\n",
    "    def __init__(self,ptype):\n",
    "        # Input:  Ptype is an integer 1,2 or 3 where 1, 2, 3 specify if you want disk, bulge or halo\n",
    "         \n",
    "        if ptype == 1:\n",
    "            a = \"disk\"\n",
    "        elif ptype == 2:\n",
    "            a = \"bulge\"\n",
    "        elif ptype == 3:\n",
    "            a = \"dm\"\n",
    "        else:\n",
    "            print (\"invalid input\")\n",
    "        \n",
    "         #1) \n",
    "        # read in the snapshot using pygadget reader \n",
    "        # and store positions and velocities and masses of the given particle type as arrays\n",
    "        # you will need an if statement here to specify what gets loaded using pygadget reader\n",
    "        self.pos = pyg.readsnap(\"../sims/MW_1M_db_010\", \"pos\", a)\n",
    "        self.vel = pyg.readsnap(\"../sims/MW_1M_db_010\",'vel', a)\n",
    "        self.mass = pyg.readsnap(\"../sims/MW_1M_db_010\", \"mass\", a)\n",
    "        \n",
    "        \n",
    "\n",
    "   \n",
    "                        \n",
    "                     \n",
    "\n",
    "    # EXAMPLE FUNCTION \n",
    "    def total_mass(self):\n",
    "        # function that returns the total mass of the disk \n",
    "        # output: Mass is units of Msun\n",
    "        # slef allows you to call functions anytime without defining it again\n",
    "        \n",
    "        \n",
    "        #Note: you can add other keyword arguments into the function, but 'self' must be first                         \n",
    "        #return np.sum(self.mass)*u.Msun*1e10\n",
    "        \n",
    "        return np.sum(self.mass)*1e10\n",
    "    \n",
    "    \n",
    "      \n",
    "    \n",
    "        # 2 ) Create a new function that returns the mass of the disk within a given radius \n",
    "        # Return the disk mass within a 3D radius of 5 kpc of (0,0,0) \n",
    "        # the function  np.where  is useful here.  \n",
    "    \n",
    "    def total_mass_inr(self, k):\n",
    "        # we are using k to be able to ask for any radius that we want\n",
    "        \n",
    "        xpos= self.pos[:,0]\n",
    "    \n",
    "        ypos= self.pos[:,1]\n",
    "    \n",
    "        zpos= self.pos[:,2]\n",
    "\n",
    "        r_disk = np.sqrt(xpos**2 + ypos**2 + zpos**2)\n",
    "        #print (xpos[0], ypos[0], zpos[0], r_disk[0]) \n",
    "        \n",
    "\n",
    "        rindex = np.where(r_disk<k)[0]   # [0] forces the array into one columm\n",
    "        #print (r_disk[rindex[0]]) # prints the value of r_disk for the first particle that has r< 20  \n",
    "        #print (rindex[0]) # prints the index in the r_disk array of the first particle that has r < 20  \n",
    "        #print (np.max(r_disk[rindex])) #prints the max value of the r_disk array that should have all particles with r < 20\n",
    "        # check that max should be less than 20 \n",
    "        mass_rcut = self.mass[rindex] \n",
    "        \n",
    "        #return np.sum(mass_rcut)*u.Msun*1e10\n",
    "        \n",
    "        return np.sum(mass_rcut)*1e10\n",
    "    \n",
    "    def mass_profile(self, maxradius, interval=2):\n",
    "    \n",
    "        \n",
    "        r = np.arange(0, maxradius, interval)\n",
    "        \n",
    "        mass = [self.total_mass_inr(i) for i in r]\n",
    "        \n",
    "        return mass,r\n",
    "    \n",
    "        \n",
    "        \n",
    "        \n",
    "\n",
    "# make a plot of the mass profile, plot the mass of the disk (whithin 20kpc) as a function of radius \n",
    "#later do bulge and halo\n"
   ]
  },
  {
   "cell_type": "code",
   "execution_count": 75,
   "metadata": {},
   "outputs": [
    {
     "name": "stdout",
     "output_type": "stream",
     "text": [
      "Returning DISK  Positions\n",
      "Returning DISK  Velocities\n",
      "Returning DISK  Mass\n",
      "Returning BULGE Positions\n",
      "Returning BULGE Velocities\n",
      "Returning BULGE Mass\n",
      "Returning DM    Positions\n",
      "Returning DM    Velocities\n",
      "Returning DM    Mass\n"
     ]
    }
   ],
   "source": [
    "# EXAMPLE OF USING A CLASS                                                                                             \n",
    "##########################                                                                                             \n",
    "\n",
    "# Create a Center of mass object for the MW DISK PARTICLES                                                                           \n",
    "MWCOM = CenterOfMass(1)\n",
    "MWCOM_BULGE= CenterOfMass(2)\n",
    "MWCOM_HALO = CenterOfMass(3) \n",
    "#calling initial function CenterOfMass with the disk input"
   ]
  },
  {
   "cell_type": "code",
   "execution_count": 70,
   "metadata": {},
   "outputs": [
    {
     "data": {
      "text/plain": [
       "5.78837"
      ]
     },
     "execution_count": 70,
     "metadata": {},
     "output_type": "execute_result"
    }
   ],
   "source": [
    "np.sum(MWCOM.mass)"
   ]
  },
  {
   "cell_type": "code",
   "execution_count": 62,
   "metadata": {},
   "outputs": [
    {
     "data": {
      "text/plain": [
       "55774965286.25488"
      ]
     },
     "execution_count": 62,
     "metadata": {},
     "output_type": "execute_result"
    }
   ],
   "source": [
    "MWCOM.total_mass_inr(15)"
   ]
  },
  {
   "cell_type": "code",
   "execution_count": 63,
   "metadata": {},
   "outputs": [
    {
     "name": "stdout",
     "output_type": "stream",
     "text": [
      "MW Disk Mass: 57883701324.46289\n"
     ]
    }
   ],
   "source": [
    "# EXAMPLE\n",
    "# Return total disk mass \n",
    "\n",
    "MW_Diskmass = MWCOM.total_mass()\n",
    "print(\"MW Disk Mass:\", MW_Diskmass)"
   ]
  },
  {
   "cell_type": "code",
   "execution_count": 76,
   "metadata": {},
   "outputs": [],
   "source": [
    "m, r = MWCOM.mass_profile(20)\n",
    "mb, rb = MWCOM_BULGE.mass_profile(20)\n",
    "mdm, rdm = MWCOM_HALO.mass_profile(20)\n"
   ]
  },
  {
   "cell_type": "code",
   "execution_count": 80,
   "metadata": {},
   "outputs": [
    {
     "data": {
      "text/plain": [
       "<matplotlib.legend.Legend at 0x81deee320>"
      ]
     },
     "execution_count": 80,
     "metadata": {},
     "output_type": "execute_result"
    },
    {
     "data": {
      "image/png": "[encoded data removed]",
      "text/plain": [
       "<Figure size 432x288 with 1 Axes>"
      ]
     },
     "metadata": {},
     "output_type": "display_data"
    }
   ],
   "source": [
    "plt.plot(r,m, label=\"disk\")\n",
    "plt.plot(rb, mb, label=\"bulge\")\n",
    "plt.plot(rdm, mdm, label=\"dark matter\")\n",
    "plt.legend()"
   ]
  },
  {
   "cell_type": "code",
   "execution_count": 66,
   "metadata": {},
   "outputs": [
    {
     "data": {
      "text/plain": [
       "[0.0,\n",
       " 8261438012.123108,\n",
       " 22770214080.810547,\n",
       " 35339024066.92505,\n",
       " 43849663734.436035,\n",
       " 49518165588.37891,\n",
       " 52988033294.677734,\n",
       " 55118846893.31055,\n",
       " 56297025680.54199,\n",
       " 57027273178.100586]"
      ]
     },
     "execution_count": 66,
     "metadata": {},
     "output_type": "execute_result"
    }
   ],
   "source": [
    "m"
   ]
  },
  {
   "cell_type": "code",
   "execution_count": null,
   "metadata": {},
   "outputs": [],
   "source": []
  },
  {
   "cell_type": "code",
   "execution_count": null,
   "metadata": {},
   "outputs": [],
   "source": []
  }
 ],
 "metadata": {
  "kernelspec": {
   "display_name": "Python 3",
   "language": "python",
   "name": "python3"
  },
  "language_info": {
   "codemirror_mode": {
    "name": "ipython",
    "version": 3
   },
   "file_extension": ".py",
   "mimetype": "text/x-python",
   "name": "python",
   "nbconvert_exporter": "python",
   "pygments_lexer": "ipython3",
   "version": "3.6.5"
  }
 },
 "nbformat": 4,
 "nbformat_minor": 2
}
