{
 "cells": [
  {
   "cell_type": "code",
   "execution_count": null,
   "metadata": {},
   "outputs": [],
   "source": []
  },
  {
   "cell_type": "code",
   "execution_count": 19,
   "metadata": {},
   "outputs": [],
   "source": [
    "# Center of Mass Position and Velocity                                                                                 \n",
    "\n",
    "# import modules                                                                                                       \n",
    "import numpy as np\n",
    "import astropy.units as u\n",
    "import pygadgetreader as pyg\n",
    "\n"
   ]
  },
  {
   "cell_type": "code",
   "execution_count": 20,
   "metadata": {},
   "outputs": [],
   "source": [
    "class CenterOfMass:\n",
    "    #\"../sims/MW_1M_db_010\"\n",
    "\n",
    "    def __init__(self,ptype):\n",
    "        # Input:  Ptype is an integer 1,2 or 3 where 1, 2, 3 specify if you want disk, bulge or halo\n",
    "        \n",
    "         #1) \n",
    "        # read in the snapshot using pygadget reader \n",
    "        # and store positions and velocities and masses of the given particle type as arrays\n",
    "        # you will need an if statement here to specify what gets loaded using pygadget reader\n",
    "        self.pos = pyg.readsnap(\"../sims/MW_1M_db_010\", \"pos\", \"disk\")\n",
    "        self.vel = pyg.readsnap(\"../sims/MW_1M_db_010\",'vel','disk')\n",
    "        self.mass = pyg.readsnap(\"../sims/MW_1M_db_010\", \"mass\", \"disk\")\n",
    "        \n",
    "         \n",
    "        if ptype == 1:\n",
    "            print (self.pos)\n",
    "        elif ptype == 2:\n",
    "            print(self.vel)\n",
    "        elif ptye == 3:\n",
    "            print(self.mass)\n",
    "        else:\n",
    "            print (\"invalid input\")\n",
    "        \n",
    "   \n",
    "                        \n",
    "                     \n",
    "\n",
    "    # EXAMPLE FUNCTION \n",
    "    def total_mass(self):\n",
    "        # function that returns the total mass of the disk \n",
    "        # output: Mass is units of Msun\n",
    "        \n",
    "        self.mass = pyg.readsnap(\"../sims/MW_1M_db_010\", \"mass\", \"disk\")\n",
    "        \n",
    "        #Note: you can add other keyword arguments into the function, but 'self' must be first                         \n",
    "        return np.sum(self.mass)*u.Msun*1e10\n",
    "    \n",
    "  \n",
    "    \n",
    "    \n",
    "    # Redef total_mass(self):turn the total mass of the disk\n",
    "    \n",
    "    \n",
    "        # 2 ) Create a new function that returns the mass of the disk within a given radius \n",
    "        # Return the disk mass within a 3D radius of 5 kpc of (0,0,0) \n",
    "        # the function  np.where  is useful here.  \n",
    "    \n",
    "    \n",
    "\n",
    "\n"
   ]
  },
  {
   "cell_type": "code",
   "execution_count": 21,
   "metadata": {},
   "outputs": [
    {
     "ename": "NameError",
     "evalue": "name 'PTYPE' is not defined",
     "output_type": "error",
     "traceback": [
      "\u001b[0;31m---------------------------------------------------------------------------\u001b[0m",
      "\u001b[0;31mNameError\u001b[0m                                 Traceback (most recent call last)",
      "\u001b[0;32m<ipython-input-21-982710f40431>\u001b[0m in \u001b[0;36m<module>\u001b[0;34m()\u001b[0m\n\u001b[1;32m      3\u001b[0m \u001b[0;34m\u001b[0m\u001b[0m\n\u001b[1;32m      4\u001b[0m \u001b[0;31m# Create a Center of mass object for the MW DISK PARTICLES\u001b[0m\u001b[0;34m\u001b[0m\u001b[0;34m\u001b[0m\u001b[0m\n\u001b[0;32m----> 5\u001b[0;31m \u001b[0mMWCOM\u001b[0m \u001b[0;34m=\u001b[0m \u001b[0mCenterOfMass\u001b[0m\u001b[0;34m(\u001b[0m\u001b[0mPTYPE\u001b[0m\u001b[0;34m)\u001b[0m\u001b[0;34m\u001b[0m\u001b[0m\n\u001b[0m",
      "\u001b[0;31mNameError\u001b[0m: name 'PTYPE' is not defined"
     ]
    }
   ],
   "source": [
    "# EXAMPLE OF USING A CLASS                                                                                             \n",
    "##########################                                                                                             \n",
    "\n",
    "# Create a Center of mass object for the MW DISK PARTICLES                                                                           \n",
    "MWCOM = CenterOfMass(PTYPE)\n"
   ]
  },
  {
   "cell_type": "code",
   "execution_count": 22,
   "metadata": {},
   "outputs": [
    {
     "ename": "NameError",
     "evalue": "name 'MWCOM' is not defined",
     "output_type": "error",
     "traceback": [
      "\u001b[0;31m---------------------------------------------------------------------------\u001b[0m",
      "\u001b[0;31mNameError\u001b[0m                                 Traceback (most recent call last)",
      "\u001b[0;32m<ipython-input-22-5352108f4e96>\u001b[0m in \u001b[0;36m<module>\u001b[0;34m()\u001b[0m\n\u001b[1;32m      2\u001b[0m \u001b[0;31m# Return total disk mass\u001b[0m\u001b[0;34m\u001b[0m\u001b[0;34m\u001b[0m\u001b[0m\n\u001b[1;32m      3\u001b[0m \u001b[0;34m\u001b[0m\u001b[0m\n\u001b[0;32m----> 4\u001b[0;31m \u001b[0mMW_Diskmass\u001b[0m \u001b[0;34m=\u001b[0m \u001b[0mMWCOM\u001b[0m\u001b[0;34m.\u001b[0m\u001b[0mtotal_mass\u001b[0m\u001b[0;34m(\u001b[0m\u001b[0;34m)\u001b[0m\u001b[0;34m\u001b[0m\u001b[0m\n\u001b[0m\u001b[1;32m      5\u001b[0m \u001b[0mprint\u001b[0m\u001b[0;34m(\u001b[0m\u001b[0;34m\"MW Disk Mass:\"\u001b[0m\u001b[0;34m,\u001b[0m \u001b[0mMW_mass\u001b[0m\u001b[0;34m)\u001b[0m\u001b[0;34m\u001b[0m\u001b[0m\n",
      "\u001b[0;31mNameError\u001b[0m: name 'MWCOM' is not defined"
     ]
    }
   ],
   "source": [
    "# EXAMPLE\n",
    "# Return total disk mass \n",
    "\n",
    "MW_Diskmass = MWCOM.total_mass()\n",
    "print(\"MW Disk Mass:\", MW_mass)"
   ]
  },
  {
   "cell_type": "code",
   "execution_count": null,
   "metadata": {
    "collapsed": true
   },
   "outputs": [],
   "source": []
  }
 ],
 "metadata": {
  "kernelspec": {
   "display_name": "Python 3",
   "language": "python",
   "name": "python3"
  },
  "language_info": {
   "codemirror_mode": {
    "name": "ipython",
    "version": 3
   },
   "file_extension": ".py",
   "mimetype": "text/x-python",
   "name": "python",
   "nbconvert_exporter": "python",
   "pygments_lexer": "ipython3",
   "version": "3.6.5"
  }
 },
 "nbformat": 4,
 "nbformat_minor": 2
}
