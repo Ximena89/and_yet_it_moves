{
 "cells": [
  {
   "cell_type": "code",
   "execution_count": null,
   "metadata": {},
   "outputs": [],
   "source": []
  },
  {
   "cell_type": "code",
   "execution_count": 50,
   "metadata": {},
   "outputs": [],
   "source": [
    "# Center of Mass Position and Velocity                                                                                 \n",
    "\n",
    "# import modules                                                                                                       \n",
    "import numpy as np\n",
    "import astropy.units as u\n",
    "import pygadgetreader as pyg\n",
    "import matplotlib.pyplot as plt\n"
   ]
  },
  {
   "cell_type": "code",
   "execution_count": 51,
   "metadata": {},
   "outputs": [],
   "source": [
    "class CenterOfMass:\n",
    "\n",
    "    def __init__(self,ptype):\n",
    "        # Input:  Ptype is an integer 1,2 or 3 where 1, 2, 3 specify if you want disk, bulge or halo\n",
    "        # read in the snapshot using pygadget reader \n",
    "        # and store positions and velocities and masses of the given particle type as arrays\n",
    "        # you will need an if statement here to specify what gets loaded using pygadget reader\n",
    "         \n",
    "        if ptype == 1:\n",
    "            a = \"disk\"\n",
    "        elif ptype == 2:\n",
    "            a = \"bulge\"\n",
    "        elif ptype == 3:\n",
    "            a = \"dm\"\n",
    "        else:\n",
    "            print (\"invalid input\")\n",
    "        \n",
    "        self.pos = pyg.readsnap(\"../sims/MW_1M_db_010\", \"pos\", a)\n",
    "        self.vel = pyg.readsnap(\"../sims/MW_1M_db_010\",'vel', a)\n",
    "        self.mass = pyg.readsnap(\"../sims/MW_1M_db_010\", \"mass\", a)\n",
    "        #properties of the object\n",
    "        \n",
    "        \n",
    "    # EXAMPLE FUNCTION \n",
    "    def total_mass(self):\n",
    "        # function that RETURNS THE TOTAL MASS OF THE DISK \n",
    "        # output: Mass is units of Msun\n",
    "        # self allows you to call functions anytime without defining it again\n",
    "        #Note: you can add other keyword arguments into the function, but 'self' must be first                         \n",
    "        \n",
    "        return np.sum(self.mass)*1e10\n",
    "    \n",
    "    \n",
    "    def total_mass_inr(self, k):\n",
    "        #function that RETURNS THE MASS OF THE DISK WITHIN A GIVEN RADIUS\n",
    "        # we are using k to be able to ask for any radius that we want \n",
    "        # the function  np.where  is useful here.  \n",
    "        \n",
    "        xpos= self.pos[:,0]\n",
    "    \n",
    "        ypos= self.pos[:,1]\n",
    "    \n",
    "        zpos= self.pos[:,2]\n",
    "\n",
    "        r_disk = np.sqrt(xpos**2 + ypos**2 + zpos**2)\n",
    "        #print (xpos[0], ypos[0], zpos[0], r_disk[0]) \n",
    "        \n",
    "\n",
    "        rindex = np.where(r_disk<k)[0]   \n",
    "        # [0] forces the array into one columm\n",
    "        #print (r_disk[rindex[0]]) # prints the value of r_disk for the first particle that has r< 20  \n",
    "        #print (rindex[0]) # prints the index in the r_disk array of the first particle that has r < 20  \n",
    "        #print (np.max(r_disk[rindex])) #prints the max value of the r_disk array that should have all particles with r < 20\n",
    "        # check that max should be less than 20 \n",
    "        \n",
    "        mass_rcut = self.mass[rindex] \n",
    "        #returns the mass withing the given radius\n",
    "        \n",
    "        \n",
    "        \n",
    "        return np.sum(mass_rcut)*1e10\n",
    "    \n",
    "    def mass_profile(self, maxradius, interval=2):\n",
    "        #the inputs are: the maximum radius we want to consider\n",
    "        #the interval takes in how we wwant divide the inteval [0,maxradius] (the number of steps)\n",
    "        #outputs: the mass contained within the specified radius\n",
    "    \n",
    "        \n",
    "        r = np.arange(0, maxradius, interval)\n",
    "        #we're creating a list of r. starts at 0, goes to maxradius & it takes in the subdivisions of the interval\n",
    "        \n",
    "        mass = [self.total_mass_inr(i) for i in r]\n",
    "        #we call the funtion that returns the mass contained within a given radius and it sums it up from 0 to maxradius.\n",
    "        \n",
    "        return mass,r\n",
    "    \n",
    "        \n",
    "        \n",
    "        \n",
    "\n",
    "# make a plot of the mass profile, plot the mass of the disk (whithin 20kpc) as a function of radius \n",
    "#later do bulge and halo\n"
   ]
  },
  {
   "cell_type": "code",
   "execution_count": 52,
   "metadata": {},
   "outputs": [
    {
     "name": "stdout",
     "output_type": "stream",
     "text": [
      "Returning DISK  Positions\n",
      "Returning DISK  Velocities\n",
      "Returning DISK  Mass\n",
      "Returning BULGE Positions\n",
      "Returning BULGE Velocities\n",
      "Returning BULGE Mass\n",
      "Returning DM    Positions\n",
      "Returning DM    Velocities\n",
      "Returning DM    Mass\n"
     ]
    }
   ],
   "source": [
    "                                                                                                                                                                                     \n",
    "# Create a Center of mass object for the MW DISK PARTICLES, BULGE, AND DM.                                                                          \n",
    "MWCOM = CenterOfMass(1)\n",
    "MWCOM_BULGE= CenterOfMass(2)\n",
    "MWCOM_HALO = CenterOfMass(3) \n",
    "#calling initial function CenterOfMass with the disk, bulge and DM input\n",
    "#prints the properties of the objects\n"
   ]
  },
  {
   "cell_type": "code",
   "execution_count": 53,
   "metadata": {},
   "outputs": [
    {
     "data": {
      "text/plain": [
       "5.78837"
      ]
     },
     "execution_count": 53,
     "metadata": {},
     "output_type": "execute_result"
    }
   ],
   "source": [
    "np.sum(MWCOM.mass)\n",
    "#total MW mass"
   ]
  },
  {
   "cell_type": "code",
   "execution_count": 54,
   "metadata": {},
   "outputs": [
    {
     "data": {
      "text/plain": [
       "55774965286.25488"
      ]
     },
     "execution_count": 54,
     "metadata": {},
     "output_type": "execute_result"
    }
   ],
   "source": [
    "MWCOM.total_mass_inr(15)\n",
    "#total MW mass within r=15 kpc"
   ]
  },
  {
   "cell_type": "code",
   "execution_count": 55,
   "metadata": {},
   "outputs": [
    {
     "name": "stdout",
     "output_type": "stream",
     "text": [
      "MW Disk Mass: 57883701324.46289\n"
     ]
    }
   ],
   "source": [
    "# EXAMPLE\n",
    "# Return total disk mass \n",
    "\n",
    "MW_Diskmass = MWCOM.total_mass()\n",
    "print(\"MW Disk Mass:\", MW_Diskmass)"
   ]
  },
  {
   "cell_type": "code",
   "execution_count": 56,
   "metadata": {},
   "outputs": [],
   "source": [
    "#object of the class, calling a function within the propertie of the class\n",
    "m, r = MWCOM.mass_profile(20) \n",
    "mb, rb = MWCOM_BULGE.mass_profile(20)\n",
    "mdm, rdm = MWCOM_HALO.mass_profile(20)\n"
   ]
  },
  {
   "cell_type": "code",
   "execution_count": 57,
   "metadata": {},
   "outputs": [
    {
     "data": {
      "image/png": "[encoded data removed]",
      "text/plain": [
       "<Figure size 432x288 with 1 Axes>"
      ]
     },
     "metadata": {},
     "output_type": "display_data"
    },
    {
     "data": {
      "text/plain": [
       "<Figure size 504x504 with 0 Axes>"
      ]
     },
     "metadata": {},
     "output_type": "display_data"
    }
   ],
   "source": [
    "\n",
    "plt.plot(r,m, label=\"disk\")\n",
    "plt.plot(rb, mb, label=\"bulge\")\n",
    "plt.plot(rdm, mdm, label=\"dark matter\")\n",
    "plt.title('mass distritubtion')\n",
    "plt.axis()\n",
    "plt.ylabel('mass (solar units)')\n",
    "plt.xlabel('radius (kpc)')\n",
    "plt.legend()\n",
    "fig = plt.figure(figsize=(7,7))\n",
    "plt.rcParams.update({'font.size': 12})"
   ]
  },
  {
   "cell_type": "code",
   "execution_count": 58,
   "metadata": {},
   "outputs": [],
   "source": [
    "mdm100, rdm100 = MWCOM_HALO.mass_profile(100)"
   ]
  },
  {
   "cell_type": "code",
   "execution_count": 59,
   "metadata": {},
   "outputs": [
    {
     "data": {
      "text/plain": [
       "Text(0.5,0,'radius (kpc)')"
      ]
     },
     "execution_count": 59,
     "metadata": {},
     "output_type": "execute_result"
    },
    {
     "data": {
      "image/png": "[encoded data removed]",
      "text/plain": [
       "<Figure size 432x288 with 1 Axes>"
      ]
     },
     "metadata": {},
     "output_type": "display_data"
    }
   ],
   "source": [
    "plt.plot(rdm100, mdm100, label=\"dark matter 100 kpc\")\n",
    "plt.legend()\n",
    "plt.title('mass distritubtion')\n",
    "plt.axis()\n",
    "plt.ylabel('mass (solar units)')\n",
    "plt.xlabel('radius (kpc)')"
   ]
  },
  {
   "cell_type": "code",
   "execution_count": 60,
   "metadata": {},
   "outputs": [],
   "source": [
    "mdm500, rdm500 = MWCOM_HALO.mass_profile(500, 10)"
   ]
  },
  {
   "cell_type": "code",
   "execution_count": 61,
   "metadata": {},
   "outputs": [
    {
     "data": {
      "text/plain": [
       "Text(0.5,0,'radius (kpc)')"
      ]
     },
     "execution_count": 61,
     "metadata": {},
     "output_type": "execute_result"
    },
    {
     "data": {
      "image/png": "[encoded data removed]",
      "text/plain": [
       "<Figure size 432x288 with 1 Axes>"
      ]
     },
     "metadata": {},
     "output_type": "display_data"
    }
   ],
   "source": [
    "plt.plot(rdm500, mdm500, label = \"dark matter 500 kpc\")\n",
    "plt.legend()\n",
    "plt.title('mass distritubtion')\n",
    "plt.axis()\n",
    "plt.ylabel('mass (solar units)')\n",
    "plt.xlabel('radius (kpc)')"
   ]
  },
  {
   "cell_type": "code",
   "execution_count": null,
   "metadata": {},
   "outputs": [],
   "source": [
    "def COMdefine(self, ):\n",
    "    \n",
    "    "
   ]
  },
  {
   "cell_type": "code",
   "execution_count": null,
   "metadata": {},
   "outputs": [],
   "source": []
  },
  {
   "cell_type": "code",
   "execution_count": null,
   "metadata": {},
   "outputs": [],
   "source": []
  }
 ],
 "metadata": {
  "kernelspec": {
   "display_name": "Python 3",
   "language": "python",
   "name": "python3"
  },
  "language_info": {
   "codemirror_mode": {
    "name": "ipython",
    "version": 3
   },
   "file_extension": ".py",
   "mimetype": "text/x-python",
   "name": "python",
   "nbconvert_exporter": "python",
   "pygments_lexer": "ipython3",
   "version": "3.6.5"
  }
 },
 "nbformat": 4,
 "nbformat_minor": 2
}
