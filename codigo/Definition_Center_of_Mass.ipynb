{
 "cells": [
  {
   "cell_type": "code",
   "execution_count": 4,
   "metadata": {},
   "outputs": [],
   "source": [
    "import numpy as np\n",
    "import astropy.units as u\n",
    "import pygadgetreader as pyg\n",
    "import matplotlib.pyplot as plt"
   ]
  },
  {
   "cell_type": "code",
   "execution_count": 18,
   "metadata": {},
   "outputs": [],
   "source": [
    "class CenterOfMass:\n",
    "\n",
    "    def __init__(self,ptype):\n",
    "        # Input:  Ptype is an integer 1,2 or 3 where 1, 2, 3 specify if you want disk, bulge or halo\n",
    "        # read in the snapshot using pygadget reader \n",
    "        # and store positions and velocities and masses of the given particle type as arrays\n",
    "        # you will need an if statement here to specify what gets loaded using pygadget reader\n",
    "         \n",
    "        if ptype == 1:\n",
    "            a = \"disk\"\n",
    "        elif ptype == 2:\n",
    "            a = \"bulge\"\n",
    "        elif ptype == 3:\n",
    "            a = \"dm\"\n",
    "        else:\n",
    "            print (\"invalid input\")\n",
    "        \n",
    "        self.pos = pyg.readsnap(\"../sims/MW_1M_db_010\", \"pos\", a)\n",
    "        self.vel = pyg.readsnap(\"../sims/MW_1M_db_010\",'vel', a)\n",
    "        self.mass = pyg.readsnap(\"../sims/MW_1M_db_010\", \"mass\", a)\n",
    "        #properties of the object\n",
    "        \n",
    "        \n",
    "    # EXAMPLE FUNCTION \n",
    "    def total_mass(self):\n",
    "        # function that RETURNS THE TOTAL MASS OF THE DISK \n",
    "        # output: Mass is units of Msun\n",
    "        # self allows you to call functions anytime without defining it again\n",
    "        #Note: you can add other keyword arguments into the function, but 'self' must be first                         \n",
    "        \n",
    "        return np.sum(self.mass)*1e10\n",
    "    \n",
    "    \n",
    "    def total_mass_inr(self, k):\n",
    "        #function that RETURNS THE MASS OF THE DISK WITHIN A GIVEN RADIUS\n",
    "        # we are using k to be able to ask for any radius that we want \n",
    "        # the function  np.where  is useful here.  \n",
    "        \n",
    "        xpos= self.pos[:,0]\n",
    "    \n",
    "        ypos= self.pos[:,1]\n",
    "    \n",
    "        zpos= self.pos[:,2]\n",
    "\n",
    "        r_disk = np.sqrt(xpos**2 + ypos**2 + zpos**2)\n",
    "        #print (xpos[0], ypos[0], zpos[0], r_disk[0]) \n",
    "        \n",
    "\n",
    "        rindex = np.where(r_disk<k)[0]   \n",
    "        # [0] forces the array into one columm\n",
    "        #print (r_disk[rindex[0]]) # prints the value of r_disk for the first particle that has r< 20  \n",
    "        #print (rindex[0]) # prints the index in the r_disk array of the first particle that has r < 20  \n",
    "        #print (np.max(r_disk[rindex])) #prints the max value of the r_disk array that should have all particles with r < 20\n",
    "        # check that max should be less than 20 \n",
    "        \n",
    "        mass_rcut = self.mass[rindex] \n",
    "        #returns the mass withing the given radius\n",
    "        \n",
    "        \n",
    "        \n",
    "        return np.sum(mass_rcut)*1e10\n",
    "    \n",
    "    def mass_profile(self, maxradius, interval=2):\n",
    "        #the inputs are: the maximum radius we want to consider\n",
    "        #the interval takes in how we want divide the inteval [0,maxradius] (the number of steps)\n",
    "        #outputs: the mass contained within the specified radius\n",
    "    \n",
    "        \n",
    "        r = np.arange(0, maxradius, interval)\n",
    "        #we're creating a list of r. starts at 0, goes to maxradius & it takes in the subdivisions of the interval\n",
    "        \n",
    "        mass = [self.total_mass_inr(i) for i in r]\n",
    "        #we call the funtion that returns the mass contained within a given radius and it sums it up from 0 to maxradius.\n",
    "        \n",
    "        return mass,r\n",
    "    \n",
    "    def COMdefine(self, a, b, c, m):\n",
    "        #This function will give back the center of mass of the galaxy using velocity or postionf info.\n",
    "        #it takes 4 inputs: 3 components of the position or velocity vector, and the total mass.\n",
    "        #Note that mx is the same as m, since all have the same mass\n",
    "        \n",
    "        # Xcom= sum(x*massx)/sum(totalmass)\n",
    "        #this is the function we need.\n",
    "        #n stands fot numerator and d stands for denominator\n",
    "        \n",
    "        na = np.sum(a*m)\n",
    "        da = np.sum(m)\n",
    "        acom = na/da\n",
    "        \n",
    "        nb = np.sum(b*m)\n",
    "        db = np.sum(m)\n",
    "        bcom = nb/db\n",
    "        \n",
    "        nc = np.sum(c*m)\n",
    "        dc = np.sum(m)\n",
    "        ccom = nc/dc\n",
    "        \n",
    "        return acom, bcom, ccom\n",
    "    \n",
    "    \n",
    "        \n",
    "    \n",
    "        \n",
    "        \n",
    "        \n"
   ]
  },
  {
   "cell_type": "code",
   "execution_count": 19,
   "metadata": {},
   "outputs": [
    {
     "name": "stdout",
     "output_type": "stream",
     "text": [
      "Returning DISK  Positions\n",
      "Returning DISK  Velocities\n",
      "Returning DISK  Mass\n"
     ]
    }
   ],
   "source": [
    "MWCOM = CenterOfMass(1)\n",
    "#Center of mass is the name of the class we defined at the begining.\n",
    "#We define the function MWCOM to be the class Center of Mass with the properties of DISK"
   ]
  },
  {
   "cell_type": "code",
   "execution_count": 26,
   "metadata": {},
   "outputs": [],
   "source": [
    "a = np.array([1,1,-1,-1])\n",
    "b = np.array([1,1,1,1])\n",
    "c = np.array([1,1,1,1])\n",
    "m = np.array([2,2,2,2])\n",
    "#Creating a generic array for the 3 vector components and mass we would need to make the calculation for the center of mass"
   ]
  },
  {
   "cell_type": "code",
   "execution_count": 27,
   "metadata": {},
   "outputs": [
    {
     "name": "stdout",
     "output_type": "stream",
     "text": [
      "1\n"
     ]
    }
   ],
   "source": [
    "print (a[0])\n",
    "#testing that our array works"
   ]
  },
  {
   "cell_type": "code",
   "execution_count": 30,
   "metadata": {},
   "outputs": [],
   "source": [
    "ac, bc, cc = MWCOM.COMdefine(a, b, c, m)\n",
    "#definig the three outputs we can get from or vcenter of mass function\n",
    "#MWCOM. is what allow us to call all the properties of the class into our function"
   ]
  },
  {
   "cell_type": "code",
   "execution_count": 33,
   "metadata": {},
   "outputs": [
    {
     "data": {
      "text/plain": [
       "0.0"
      ]
     },
     "execution_count": 33,
     "metadata": {},
     "output_type": "execute_result"
    }
   ],
   "source": [
    "ac\n",
    "#Getting the result of the center of mass for component a. We already new what the value should be"
   ]
  },
  {
   "cell_type": "code",
   "execution_count": 31,
   "metadata": {},
   "outputs": [],
   "source": [
    "#write a summary of how the process of writing this function was \n",
    "#comment each step\n",
    "#how do I test things"
   ]
  },
  {
   "cell_type": "code",
   "execution_count": 32,
   "metadata": {},
   "outputs": [],
   "source": [
    "#make velocity profile\n",
    "#create a plot that returns the avg velocity within a given radius. \n",
    "#average velocity in r\n",
    "#you have to create a new function, work on calling functions \n",
    "#if enough time play with COMdefine and try to return the real center of mass from the simulation, how would you call the postions, and velocity of the disk?"
   ]
  },
  {
   "cell_type": "code",
   "execution_count": null,
   "metadata": {},
   "outputs": [],
   "source": []
  }
 ],
 "metadata": {
  "kernelspec": {
   "display_name": "Python 3",
   "language": "python",
   "name": "python3"
  },
  "language_info": {
   "codemirror_mode": {
    "name": "ipython",
    "version": 3
   },
   "file_extension": ".py",
   "mimetype": "text/x-python",
   "name": "python",
   "nbconvert_exporter": "python",
   "pygments_lexer": "ipython3",
   "version": "3.6.6"
  }
 },
 "nbformat": 4,
 "nbformat_minor": 2
}
