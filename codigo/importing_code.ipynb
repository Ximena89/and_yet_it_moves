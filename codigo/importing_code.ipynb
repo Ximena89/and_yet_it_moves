{
 "cells": [
  {
   "cell_type": "code",
   "execution_count": 1,
   "metadata": {},
   "outputs": [
    {
     "name": "stdout",
     "output_type": "stream",
     "text": [
      "10000.0 pc\n",
      "Returning DISK  Positions\n",
      "Returning DISK  Velocities\n",
      "Returning DISK  Mass\n",
      "Returning BULGE Positions\n",
      "Returning BULGE Velocities\n",
      "Returning BULGE Mass\n",
      "Returning DM    Positions\n",
      "Returning DM    Velocities\n",
      "Returning DM    Mass\n",
      "[2107155621.0517883, 15511884689.331055, 29525418281.555176, 40018615722.65625, 46993045806.884766]\n",
      "MW Disk Mass: 57883701324.46289\n",
      "([0.0, 8261438012.123108, 22770214080.810547, 35339024066.92505, 43849663734.436035, 49518165588.37891, 52988033294.677734, 55118846893.31055, 56297025680.54199, 57027273178.100586], array([ 0,  2,  4,  6,  8, 10, 12, 14, 16, 18]))\n",
      "([0.0, 7647902965.545654, 10149360895.15686, 11267604827.88086, 11818052530.288696, 12212356328.964233, 12491523027.420044, 12652399539.94751, 12832200527.191162, 12967841625.213623], array([ 0,  2,  4,  6,  8, 10, 12, 14, 16, 18]))\n",
      "([0.0, 3392583727.836609, 12455246448.516846, 25695946216.583252, 42337117195.129395, 60850434303.28369, 81213827133.17871, 102615013122.5586, 124749612808.22754, 147437810897.82715], array([ 0,  2,  4,  6,  8, 10, 12, 14, 16, 18]))\n",
      "[0.00000000e+00 1.93019247e+10 4.53748214e+10 7.23025751e+10\n",
      " 9.80048335e+10 1.22580956e+11 1.46693383e+11 1.70386260e+11\n",
      " 1.93878839e+11 2.17432926e+11]\n",
      "[ 0.  2.  4.  6.  8. 10. 12. 14. 16. 18.]\n",
      "16009.43\n",
      "22419.844\n",
      "-16977.418\n"
     ]
    },
    {
     "name": "stderr",
     "output_type": "stream",
     "text": [
      "/Users/ximena/Desktop/and_yet_it_moves/codigo/vel_mass_profiles.py:147: RuntimeWarning: invalid value encountered in true_divide\n",
      "  return np.sum(velmag_rcut) / len(velmag_rcut)\n",
      "/anaconda3/lib/python3.6/site-packages/matplotlib/axes/_base.py:3477: UserWarning: Attempted to set non-positive ylimits for log-scale axis; invalid limits will be ignored.\n",
      "  'Attempted to set non-positive ylimits for log-scale axis; '\n"
     ]
    }
   ],
   "source": [
    "import vel_mass_profiles"
   ]
  },
  {
   "cell_type": "code",
   "execution_count": null,
   "metadata": {},
   "outputs": [],
   "source": []
  }
 ],
 "metadata": {
  "kernelspec": {
   "display_name": "Python 3",
   "language": "python",
   "name": "python3"
  },
  "language_info": {
   "codemirror_mode": {
    "name": "ipython",
    "version": 3
   },
   "file_extension": ".py",
   "mimetype": "text/x-python",
   "name": "python",
   "nbconvert_exporter": "python",
   "pygments_lexer": "ipython3",
   "version": "3.6.6"
  }
 },
 "nbformat": 4,
 "nbformat_minor": 2
}
